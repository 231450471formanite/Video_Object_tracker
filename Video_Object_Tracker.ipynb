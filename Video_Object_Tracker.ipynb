{
 "cells": [
  {
   "cell_type": "markdown",
   "metadata": {},
   "source": [
    "<h1 align=\"center\">Video Object Tracker</h1>\n",
    "<h4 align=\"center\">By Sharoon Yaqub</h4>"
   ]
  },
  {
   "cell_type": "code",
   "execution_count": null,
   "metadata": {},
   "outputs": [],
   "source": [
    "import cv2"
   ]
  },
  {
   "cell_type": "code",
   "execution_count": null,
   "metadata": {},
   "outputs": [],
   "source": [
    "tracker = cv2.legacy.TrackerCSRT_create()\n",
    "video = cv2.VideoCapture(\"race.mp4\")\n",
    "ok, frame = video.read()\n",
    "\n",
    "bbox = cv2.selectROI(frame)\n",
    "\n",
    "ok = tracker.init(frame, bbox)\n",
    "\n",
    "while True:\n",
    "    ok, frame = video.read()\n",
    "    if not ok:\n",
    "        break \n",
    "\n",
    "    ok, bbox = tracker.update(frame)\n",
    "    \n",
    "    if ok:\n",
    "        (x, y, w, h) = [int(v) for v in bbox]\n",
    "        cv2.recatngle(frame, (x,y, (x+w,y+h), (0,255,0), 2, 1))\n",
    "    \n",
    "    else:\n",
    "        cv2.putText(frame, 'Error', (100, 80), cv2.FONT_HERSHEY_SIMPLEX, 1 (0,0,255), 2)\n",
    "    \n",
    "    cv2.imshow('Tracking', frame)\n",
    "\n",
    "    if cv2.waitkey(1) & 0XFF == 27:# press esc\n",
    "        break\n",
    "\n",
    "\n",
    "  \n",
    "    \n"
   ]
  }
 ],
 "metadata": {
  "kernelspec": {
   "display_name": "Python 3",
   "language": "python",
   "name": "python3"
  },
  "language_info": {
   "codemirror_mode": {
    "name": "ipython",
    "version": 3
   },
   "file_extension": ".py",
   "mimetype": "text/x-python",
   "name": "python",
   "nbconvert_exporter": "python",
   "pygments_lexer": "ipython3",
   "version": "3.10.10"
  },
  "orig_nbformat": 4
 },
 "nbformat": 4,
 "nbformat_minor": 2
}
